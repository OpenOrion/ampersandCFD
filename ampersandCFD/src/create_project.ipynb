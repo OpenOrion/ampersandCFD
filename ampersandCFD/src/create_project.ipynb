{
 "cells": [
  {
   "cell_type": "code",
   "execution_count": 70,
   "metadata": {},
   "outputs": [],
   "source": [
    "import os\n"
   ]
  },
  {
   "cell_type": "code",
   "execution_count": 71,
   "metadata": {},
   "outputs": [],
   "source": [
    "def create_project(project_name=\"testProject\",user_name=\"user1\"):\n",
    "    print(f\"Creating Project: {project_name} for {user_name}\")\n",
    "    # create directory at the /$HOME/user_name/project_name\n",
    "    default_path = r\"C:\\Users\\owner\\Desktop\\ampersandTests\"\n",
    "    project_path = os.path.join(default_path,user_name,project_name)\n",
    "    print(project_path)\n",
    "    # check whether the path already exists. If not, create the path\n",
    "    if os.path.exists(project_path):\n",
    "        print(\"Directory exists\")\n",
    "    else:\n",
    "        print(\"Creating project directory\")\n",
    "        try:\n",
    "            os.makedirs(project_path)\n",
    "            \n",
    "        except OSError as error:\n",
    "            print(error)\n",
    "    try:\n",
    "        os.chdir(project_path)\n",
    "    except OSError as error:\n",
    "            print(error)\n",
    "    cwd = os.getcwd()\n",
    "    print(f\"Working directory: {cwd}\")\n",
    "\n",
    "    # create 0, constant and system directory\n",
    "    try:\n",
    "        os.mkdir(\"0\")\n",
    "        os.mkdir(\"constant\")\n",
    "        os.mkdir(\"system\")\n",
    "    except OSError as error:\n",
    "        print(\"File system already exists. Skipping the creation of directories\")    \n",
    "\n",
    "\n",
    "    "
   ]
  },
  {
   "cell_type": "code",
   "execution_count": 72,
   "metadata": {},
   "outputs": [
    {
     "name": "stdout",
     "output_type": "stream",
     "text": [
      "Creating Project: testProject for user1\n",
      "C:\\Users\\owner\\Desktop\\ampersandTests\\user1\\testProject\n",
      "Directory exists\n",
      "Working directory: C:\\Users\\owner\\Desktop\\ampersandTests\\user1\\testProject\n",
      "File system already exists. Skipping the creation of directories\n"
     ]
    }
   ],
   "source": [
    "create_project()"
   ]
  },
  {
   "cell_type": "code",
   "execution_count": 73,
   "metadata": {},
   "outputs": [],
   "source": [
    "run_settings = {\n",
    "    'mesh': True,\n",
    "    'solver':'simpleFoam',\n",
    "    'initialize':True,\n",
    "    'postProc': True,\n",
    "    'parallel': True\n",
    "}\n",
    "\n",
    "meshing_settings = {\n",
    "    'blockMesh':True,\n",
    "    'snappyHexMesh':True,\n",
    "    'setFields':True,\n",
    "    'topoSet':True\n",
    "}"
   ]
  },
  {
   "cell_type": "code",
   "execution_count": 74,
   "metadata": {},
   "outputs": [],
   "source": [
    "def create_run(run_settings):\n",
    "    cmdFlow = f\"\"\"\n",
    "#!/bin/bash\n",
    "cd \"${{0%/*}}\" || exit                                # Run from this directory\n",
    ". ${{WM_PROJECT_DIR:?}}/bin/tools/RunFunctions        # Tutorial run functions\n",
    "#------------------------------------------------------------------------------\n",
    "foamCleanTutorials\"\"\"\n",
    "    if(run_settings['parallel']):\n",
    "        cmdFlow += f\"\"\"\n",
    "runApplication decomposePar\n",
    "runParallel renumberMesh -overwrite\n",
    "\"\"\"\n",
    "        if(run_settings['initialize']):\n",
    "            cmdFlow += f\"\"\"runParallel potentialFoam\"\"\"\n",
    "        cmdFlow += f\"\"\"runParallel {run_settings['solver']}\"\"\"\n",
    "    else:\n",
    "        if(run_settings['initialize']):\n",
    "            cmdFlow += f\"\"\"runApplication potentialFoam\"\"\"\n",
    "        cmdFlow += f\"\"\"runApplication {run_settings['solver']}\"\"\"\n",
    "    return cmdFlow\n"
   ]
  },
  {
   "cell_type": "code",
   "execution_count": 75,
   "metadata": {},
   "outputs": [],
   "source": [
    "def create_mesh(meshing_settings):\n",
    "    pass"
   ]
  },
  {
   "cell_type": "code",
   "execution_count": 76,
   "metadata": {},
   "outputs": [],
   "source": [
    "cmdFlow = create_run(run_settings)\n"
   ]
  },
  {
   "cell_type": "code",
   "execution_count": 77,
   "metadata": {},
   "outputs": [
    {
     "name": "stdout",
     "output_type": "stream",
     "text": [
      "\n",
      "#!/bin/bash\n",
      "cd \"${0%/*}\" || exit                                # Run from this directory\n",
      ". ${WM_PROJECT_DIR:?}/bin/tools/RunFunctions        # Tutorial run functions\n",
      "#------------------------------------------------------------------------------\n",
      "foamCleanTutorials\n",
      "runApplication decomposePar\n",
      "runParallel renumberMesh -overwrite\n",
      "runParallel potentialFoamrunParallel simpleFoam\n"
     ]
    }
   ],
   "source": [
    "print(cmdFlow)"
   ]
  },
  {
   "cell_type": "code",
   "execution_count": null,
   "metadata": {},
   "outputs": [],
   "source": []
  }
 ],
 "metadata": {
  "kernelspec": {
   "display_name": "Python 3",
   "language": "python",
   "name": "python3"
  },
  "language_info": {
   "codemirror_mode": {
    "name": "ipython",
    "version": 3
   },
   "file_extension": ".py",
   "mimetype": "text/x-python",
   "name": "python",
   "nbconvert_exporter": "python",
   "pygments_lexer": "ipython3",
   "version": "3.11.4"
  }
 },
 "nbformat": 4,
 "nbformat_minor": 2
}
