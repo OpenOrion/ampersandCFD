{
 "cells": [
  {
   "cell_type": "code",
   "execution_count": 6,
   "metadata": {},
   "outputs": [],
   "source": [
    "from pathlib import Path\n",
    "from ampersandCFD.models.inputs import FLUID_PYSICAL_PROPERTIES, CreateProjectInput, StlInput\n",
    "from ampersandCFD.services.project_service import ProjectService\n",
    "from ampersandCFD.utils.io import IOUtils\n",
    " \n",
    "IOUtils.verbose = True\n",
    "\n",
    "input = CreateProjectInput(\n",
    "    refinement_amount=\"coarse\",\n",
    "    fluid=FLUID_PYSICAL_PROPERTIES[\"Air\"],\n",
    "    n_core=4,\n",
    "    is_half_model=False,\n",
    "    is_internal_flow=True,\n",
    "    use_function_objects=True,\n",
    "    transient=False,\n",
    "    stl_files=[\n",
    "        StlInput(stl_path=Path(\"./stl/pipe/walls.stl\"), purpose=\"wall\"),\n",
    "        StlInput(stl_path=Path(\"./stl/pipe/inlet1.stl\"), purpose=\"inlet\", property=(0, 0, 1.0)),\n",
    "        StlInput(stl_path=Path(\"./stl/pipe/inlet2.stl\"), purpose=\"inlet\", property=(0, 0, 0.5)),\n",
    "        StlInput(stl_path=Path(\"./stl/pipe/inlet3.stl\"), purpose=\"inlet\", property=(0, 0, 0.8)),\n",
    "        StlInput(stl_path=Path(\"./stl/pipe/inlet4.stl\"), purpose=\"inlet\", property=(0, 0, 2.0)),\n",
    "    ]\n",
    ")\n",
    "project_path=Path(\"./foamProjects/interal_pipe\")"
   ]
  },
  {
   "cell_type": "code",
   "execution_count": 7,
   "metadata": {},
   "outputs": [
    {
     "name": "stdout",
     "output_type": "stream",
     "text": [
      "Creating the project\n"
     ]
    },
    {
     "name": "stdout",
     "output_type": "stream",
     "text": [
      "\n",
      "-----------------Turbulence-----------------\n",
      "Target yPlus:70.0\n",
      "Reynolds number:30133.333553870518\n",
      "Boundary layer thickness: 0.021258407428131957\n",
      "Final layer thickness:0.0016950000124052165\n",
      "Number of layers:1\n",
      "\n",
      "-----------------Mesh Settings-----------------\n",
      "Domain size:         X         Y         Z\n",
      "Min             -0.076    -0.053    -0.016\n",
      "Max              0.466     0.211     0.177\n",
      "Background mesh size: 28x14x10 cells\n",
      "\n",
      "Max cell size: 0.019371428713202476\n",
      "Min cell size: 0.004842857178300619\n",
      "Refinement Level:2\n",
      "Copied walls.stl to foamProjects/interal_pipe/constant/triSurface/walls.stl\n",
      "Setting solid name for foamProjects/interal_pipe/constant/triSurface/walls.stl\n",
      "Copied inlet1.stl to foamProjects/interal_pipe/constant/triSurface/inlet1.stl\n",
      "Setting solid name for foamProjects/interal_pipe/constant/triSurface/inlet1.stl\n",
      "Copied inlet2.stl to foamProjects/interal_pipe/constant/triSurface/inlet2.stl\n",
      "Setting solid name for foamProjects/interal_pipe/constant/triSurface/inlet2.stl\n",
      "Copied inlet3.stl to foamProjects/interal_pipe/constant/triSurface/inlet3.stl\n",
      "Setting solid name for foamProjects/interal_pipe/constant/triSurface/inlet3.stl\n",
      "Copied inlet4.stl to foamProjects/interal_pipe/constant/triSurface/inlet4.stl\n",
      "Setting solid name for foamProjects/interal_pipe/constant/triSurface/inlet4.stl\n",
      "Creating constant properties\n",
      "Creating the system files\n",
      "\n",
      "-----------------------------------\n",
      "Project files created successfully!\n",
      "-----------------------------------\n",
      "\n",
      "Writing settings to project_settings.yaml\n",
      "\n",
      "----------------------Project Summary----------------------\n",
      "Internal Flow: True\n",
      "Transient: False\n",
      "Domain size:         X         Y         Z\n",
      "Min             -0.076    -0.053    -0.016\n",
      "Max              0.466     0.211     0.177\n",
      "Background mesh size: 28x14x10 cells\n",
      "\n",
      "\n",
      "-------------------------STL Files-------------------------\n",
      "No.  Name                Purpose             RefineMent     Property       \n",
      "1    walls.stl           wall                (2 2)          nLayers: 1     \n",
      "2    inlet1.stl          inlet               (2 2)          U: [0 0 1.0]   \n",
      "3    inlet2.stl          inlet               (2 2)          U: [0 0 0.5]   \n",
      "4    inlet3.stl          inlet               (2 2)          U: [0 0 0.8]   \n",
      "5    inlet4.stl          inlet               (2 2)          U: [0 0 2.0]   \n",
      "------------------------------------------------------------\n"
     ]
    }
   ],
   "source": [
    "from ampersandCFD.services.project_service import ProjectService\n",
    "\n",
    "project = ProjectService.create_project(project_path, input)\n",
    "project.summarize_project()"
   ]
  }
 ],
 "metadata": {
  "kernelspec": {
   "display_name": "base",
   "language": "python",
   "name": "python3"
  },
  "language_info": {
   "codemirror_mode": {
    "name": "ipython",
    "version": 3
   },
   "file_extension": ".py",
   "mimetype": "text/x-python",
   "name": "python",
   "nbconvert_exporter": "python",
   "pygments_lexer": "ipython3",
   "version": "3.12.2"
  }
 },
 "nbformat": 4,
 "nbformat_minor": 2
}
