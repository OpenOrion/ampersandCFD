{
 "cells": [
  {
   "cell_type": "code",
   "execution_count": 5,
   "metadata": {},
   "outputs": [],
   "source": [
    "from pathlib import Path\n",
    "from ampersandCFD.models.inputs import FLUID_PYSICAL_PROPERTIES, CreateProjectInput, StlInput\n",
    "from ampersandCFD.utils.io import IOUtils\n",
    "\n",
    "\n",
    "IOUtils.verbose = True\n",
    "input = CreateProjectInput(\n",
    "    refinement_amount=\"coarse\",\n",
    "    on_ground=True,\n",
    "    fluid=FLUID_PYSICAL_PROPERTIES[\"Air\"],\n",
    "    inlet_values=(10,0,0),\n",
    "    n_core=4,\n",
    "    is_half_model=True,\n",
    "    is_internal_flow=False,\n",
    "    use_function_objects=True,\n",
    "    transient=False,\n",
    "    stl_files=[\n",
    "        StlInput(stl_path=Path(\"./stl/ahmed.stl\"), purpose=\"wall\")\n",
    "    ]\n",
    ")\n",
    "project_path=Path(\"./foamProjects/ahmed\")"
   ]
  },
  {
   "cell_type": "code",
   "execution_count": 6,
   "metadata": {},
   "outputs": [
    {
     "name": "stdout",
     "output_type": "stream",
     "text": [
      "Creating the project\n",
      "\n",
      "-----------------Turbulence-----------------\n",
      "Target yPlus:70.0\n",
      "Reynolds number:69600.00097751617\n",
      "Boundary layer thickness: 0.04153176420808971\n",
      "Final layer thickness:0.009734016530154668\n",
      "Number of layers:1\n",
      "\n",
      "-----------------Mesh Settings-----------------\n",
      "Domain size:         X         Y         Z\n",
      "Min             -3.366    -2.088    -0.241\n",
      "Max             10.206     0.194     4.273\n",
      "Background mesh size: 122x22x42 cells\n",
      "\n",
      "Max cell size: 0.11124590320176765\n",
      "Min cell size: 0.027811475800441913\n",
      "Refinement Level:2\n",
      "Copied ahmed.stl to foamProjects/ahmed/constant/triSurface/ahmed.stl\n",
      "Setting solid name for foamProjects/ahmed/constant/triSurface/ahmed.stl\n",
      "Creating constant properties\n",
      "Creating the system files\n",
      "\n",
      "-----------------------------------\n",
      "Project files created successfully!\n",
      "-----------------------------------\n",
      "\n",
      "Writing settings to project_settings.yaml\n",
      "\n",
      "----------------------Project Summary----------------------\n",
      "Internal Flow: False\n",
      "On Ground: True\n",
      "Transient: False\n",
      "Domain size:         X         Y         Z\n",
      "Min             -3.366    -2.088    -0.241\n",
      "Max             10.206     0.194     4.273\n",
      "Background mesh size: 122x22x42 cells\n",
      "\n",
      "\n",
      "-------------------------STL Files-------------------------\n",
      "No.  Name                Purpose             RefineMent     Property       \n",
      "4    ahmed.stl           wall                (2 2)          nLayers: 1     \n",
      "------------------------------------------------------------\n"
     ]
    }
   ],
   "source": [
    "from ampersandCFD.services.project_service import ProjectService\n",
    "\n",
    "\n",
    "project = ProjectService.create_project(project_path, input)\n",
    "project.summarize_project()\n"
   ]
  }
 ],
 "metadata": {
  "kernelspec": {
   "display_name": "base",
   "language": "python",
   "name": "python3"
  },
  "language_info": {
   "codemirror_mode": {
    "name": "ipython",
    "version": 3
   },
   "file_extension": ".py",
   "mimetype": "text/x-python",
   "name": "python",
   "nbconvert_exporter": "python",
   "pygments_lexer": "ipython3",
   "version": "3.12.2"
  }
 },
 "nbformat": 4,
 "nbformat_minor": 2
}
